{
 "cells": [
  {
   "cell_type": "markdown",
   "metadata": {},
   "source": [
    "# Notebook_8 - Least Squares and Linear Algebra"
   ]
  },
  {
   "cell_type": "code",
   "execution_count": 1,
   "metadata": {},
   "outputs": [],
   "source": [
    "import numpy as np\n",
    "import matplotlib.pyplot as plt\n",
    "# let's set things up so we have nice font sizes\n",
    "plt.rcParams.update({'font.size': 12})"
   ]
  },
  {
   "cell_type": "markdown",
   "metadata": {},
   "source": [
    "Here we're going to demonstrate that if we are trying to solve a least squares problem:\n",
    "\n",
    "$$\\min_{m_0,m_1} \\left [ (m_1x_i + m_0) - y_i \\right ]^2$$\n",
    "\n",
    "Then we can set this up as $$Xm=y$$ and solve by doing $$X^{T}X m = X^{T}y$$ and then inverting to get $$ m = (X^{T}X)^{-1}X^{T}y$$"
   ]
  },
  {
   "cell_type": "markdown",
   "metadata": {},
   "source": [
    "Here, $X$ is a \"tall\" matrix with the first column all `1` and the second column all $x_i$.  The vector $y$ is a column vector of the $y_i$"
   ]
  },
  {
   "cell_type": "code",
   "execution_count": 26,
   "metadata": {},
   "outputs": [],
   "source": [
    "points = [\n",
    "    [0,0],\n",
    "    [1,1],\n",
    "    [2,-3],\n",
    "    [1,2],\n",
    "    [-2,-4],\n",
    "]\n",
    "points = np.array(points)\n",
    "\n",
    "xi = points[:,0]\n",
    "yi = points[:,1]"
   ]
  },
  {
   "cell_type": "code",
   "execution_count": 27,
   "metadata": {},
   "outputs": [
    {
     "data": {
      "text/plain": [
       "<matplotlib.collections.PathCollection at 0x114461b50>"
      ]
     },
     "execution_count": 27,
     "metadata": {},
     "output_type": "execute_result"
    },
    {
     "data": {
      "image/png": "[encoded data removed]",
      "text/plain": [
       "<Figure size 360x360 with 1 Axes>"
      ]
     },
     "metadata": {
      "needs_background": "light"
     },
     "output_type": "display_data"
    }
   ],
   "source": [
    "fig,ax = plt.subplots(nrows=1,ncols=1,figsize=(5,5))\n",
    "ax.scatter(xi,yi)"
   ]
  },
  {
   "cell_type": "markdown",
   "metadata": {},
   "source": [
    "# Matrix X"
   ]
  },
  {
   "cell_type": "code",
   "execution_count": 28,
   "metadata": {},
   "outputs": [],
   "source": [
    "X = np.zeros((len(xi),2))\n",
    "X[:,0] = xi**0\n",
    "X[:,1] = xi"
   ]
  },
  {
   "cell_type": "markdown",
   "metadata": {},
   "source": [
    "# Vector y"
   ]
  },
  {
   "cell_type": "code",
   "execution_count": 29,
   "metadata": {},
   "outputs": [],
   "source": [
    "y = yi"
   ]
  },
  {
   "cell_type": "markdown",
   "metadata": {},
   "source": [
    "# Solve normal equations"
   ]
  },
  {
   "cell_type": "code",
   "execution_count": 30,
   "metadata": {},
   "outputs": [
    {
     "name": "stdout",
     "output_type": "stream",
     "text": [
      "[-1.08695652  0.7173913 ]\n"
     ]
    }
   ],
   "source": [
    "XT = np.transpose(X)\n",
    "m = np.linalg.inv(XT.dot(X)).dot(XT).dot(y)\n",
    "print(m)"
   ]
  },
  {
   "cell_type": "code",
   "execution_count": 31,
   "metadata": {},
   "outputs": [],
   "source": [
    "intercept = m[0]\n",
    "slope = m[1]"
   ]
  },
  {
   "cell_type": "markdown",
   "metadata": {},
   "source": [
    "# Plot"
   ]
  },
  {
   "cell_type": "code",
   "execution_count": 32,
   "metadata": {},
   "outputs": [
    {
     "data": {
      "text/plain": [
       "[<matplotlib.lines.Line2D at 0x1142584d0>]"
      ]
     },
     "execution_count": 32,
     "metadata": {},
     "output_type": "execute_result"
    },
    {
     "data": {
      "image/png": "[encoded data removed]",
      "text/plain": [
       "<Figure size 360x360 with 1 Axes>"
      ]
     },
     "metadata": {
      "needs_background": "light"
     },
     "output_type": "display_data"
    }
   ],
   "source": [
    "fig,ax = plt.subplots(nrows=1,ncols=1,figsize=(5,5))\n",
    "ax.scatter(xi,yi)\n",
    "\n",
    "xvals = np.linspace(np.min(xi)-1,np.max(xi)+1,3)\n",
    "ax.plot(xvals, xvals*slope+intercept,'r')\n",
    "# ax.set_xlim([-5,5])\n",
    "# ax.set_ylim([-5,5])"
   ]
  },
  {
   "cell_type": "markdown",
   "metadata": {},
   "source": [
    "# Bonus"
   ]
  },
  {
   "cell_type": "code",
   "execution_count": 42,
   "metadata": {},
   "outputs": [],
   "source": [
    "points = [\n",
    "    [0,0],\n",
    "    [1,1],\n",
    "    [2,-3],\n",
    "    [1,2],\n",
    "    [-2,-4],\n",
    "    [-10,-3],\n",
    "]\n",
    "points = np.array(points)\n",
    "\n",
    "xi = points[:,0]\n",
    "yi = points[:,1]"
   ]
  },
  {
   "cell_type": "code",
   "execution_count": 43,
   "metadata": {},
   "outputs": [
    {
     "name": "stdout",
     "output_type": "stream",
     "text": [
      "[-1.04540631  0.53545565  0.03232803]\n"
     ]
    },
    {
     "data": {
      "text/plain": [
       "[<matplotlib.lines.Line2D at 0x114775390>]"
      ]
     },
     "execution_count": 43,
     "metadata": {},
     "output_type": "execute_result"
    },
    {
     "data": {
      "image/png": "[encoded data removed]",
      "text/plain": [
       "<Figure size 360x360 with 1 Axes>"
      ]
     },
     "metadata": {
      "needs_background": "light"
     },
     "output_type": "display_data"
    }
   ],
   "source": [
    "X = np.zeros((len(xi),3))\n",
    "X[:,0] = xi**0\n",
    "X[:,1] = xi\n",
    "X[:,2] = xi**2\n",
    "\n",
    "y = yi\n",
    "\n",
    "XT = np.transpose(X)\n",
    "m = np.linalg.inv(XT.dot(X)).dot(XT).dot(y)\n",
    "print(m)\n",
    "\n",
    "fig,ax = plt.subplots(nrows=1,ncols=1,figsize=(5,5))\n",
    "ax.scatter(xi,yi)\n",
    "\n",
    "xvals = np.linspace(np.min(xi)-1,np.max(xi)+1,100)\n",
    "ax.plot(xvals, (xvals**2)*m[2] + (xvals**1)*m[1] + m[0],'r')"
   ]
  },
  {
   "cell_type": "code",
   "execution_count": null,
   "metadata": {},
   "outputs": [],
   "source": []
  }
 ],
 "metadata": {
  "kernelspec": {
   "display_name": "Python 3",
   "language": "python",
   "name": "python3"
  },
  "language_info": {
   "codemirror_mode": {
    "name": "ipython",
    "version": 3
   },
   "file_extension": ".py",
   "mimetype": "text/x-python",
   "name": "python",
   "nbconvert_exporter": "python",
   "pygments_lexer": "ipython3",
   "version": "3.7.4"
  }
 },
 "nbformat": 4,
 "nbformat_minor": 4
}
