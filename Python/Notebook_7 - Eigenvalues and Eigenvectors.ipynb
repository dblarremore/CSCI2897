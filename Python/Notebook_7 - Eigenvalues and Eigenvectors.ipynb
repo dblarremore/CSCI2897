{
 "cells": [
  {
   "cell_type": "markdown",
   "metadata": {},
   "source": [
    "# Notebook_7 - Eigenstuff\n",
    "\n"
   ]
  },
  {
   "cell_type": "markdown",
   "metadata": {},
   "source": [
    "### Import needed packages"
   ]
  },
  {
   "cell_type": "code",
   "execution_count": null,
   "metadata": {},
   "outputs": [],
   "source": [
    "import numpy as np\n",
    "import matplotlib.pyplot as plt\n",
    "# let's set things up so we have nice font sizes\n",
    "plt.rcParams.update({'font.size': 12})"
   ]
  },
  {
   "cell_type": "markdown",
   "metadata": {},
   "source": [
    "# Linear Systems"
   ]
  },
  {
   "cell_type": "markdown",
   "metadata": {},
   "source": [
    "Some helper functions for seeing what's going on here!"
   ]
  },
  {
   "cell_type": "code",
   "execution_count": null,
   "metadata": {},
   "outputs": [],
   "source": [
    "def plot_vector_field(M,zoom=10,grain=1,show_evecs=False,ICs=[]):\n",
    "    evals,evecs = np.linalg.eig(M)\n",
    "    # VECTOR FIELD SETUP\n",
    "    xvals = np.arange(-zoom,zoom,grain)\n",
    "    yvals = np.arange(-zoom,zoom,grain)\n",
    "    X,Y = np.meshgrid(xvals,yvals)\n",
    "    U = 0*X\n",
    "    V = 0*Y\n",
    "    for i,row in enumerate(X):\n",
    "        for j,x in enumerate(row):\n",
    "            y = Y[i,j]\n",
    "            u,v = M.dot([x,y])\n",
    "            U[i,j] = u\n",
    "            V[i,j] = v\n",
    "    # Plot\n",
    "    fig, ax = plt.subplots(nrows=1,ncols=1,figsize=(7,7))\n",
    "    ax.quiver(X,Y,U,V,zorder=2)\n",
    "    ax.set_xlim([-zoom,zoom])\n",
    "    ax.set_ylim([-zoom,zoom])\n",
    "    ax.plot(0,0,'or',zorder=3)\n",
    "    if np.imag(evals[0])==0:\n",
    "        m = evecs[1,0]/evecs[0,0]\n",
    "        ax.plot([-zoom,zoom],[-zoom*m,zoom*m],'b--',alpha=0.5,zorder=1)\n",
    "        m = evecs[1,1]/evecs[0,1]\n",
    "        ax.plot([-zoom,zoom],[-zoom*m,zoom*m],'b--',alpha=0.5,zorder=1)\n",
    "    for IC in ICs:\n",
    "        X = solve(M,IC,zoom=zoom)\n",
    "        ax.plot(IC[0],IC[1],'ko')\n",
    "        ax.plot(X[:,0],X[:,1],lw=2,alpha=0.5,zorder=4)\n",
    "    ax.set_title('Eigenvalues: {:.3f}, {:.3f}'.format(evals[0], evals[1]))\n",
    "    plt.show()\n",
    "    print('Eigenvalue 1:\\n\\t{:.3f}'.format(evals[0]))\n",
    "    print('Eigenvector 1:\\n\\t{:.3f}\\n\\t{:.3f}'.format(evecs[0,0],evecs[1,0]))\n",
    "    \n",
    "    print('\\nEigenvalue 2:\\n\\t{:.3f}'.format(evals[1]))\n",
    "    print('Eigenvector 2:\\n\\t{:.3f}\\n\\t{:.3f}'.format(evecs[0,1],evecs[1,1]))"
   ]
  },
  {
   "cell_type": "code",
   "execution_count": null,
   "metadata": {},
   "outputs": [],
   "source": [
    "def solve(M,IC,zoom):\n",
    "    X = [IC]\n",
    "    dt = 0.01\n",
    "    maxt=100\n",
    "    t = 0\n",
    "    exit_condition = any([t>maxt])\n",
    "    while exit_condition==False:\n",
    "        xt = X[-1] + M.dot(X[-1])*dt\n",
    "        X.append(xt)\n",
    "        t += dt\n",
    "        exit_condition = any([t>maxt])\n",
    "    return np.array(X)"
   ]
  },
  {
   "cell_type": "markdown",
   "metadata": {},
   "source": [
    "# Linear Systems"
   ]
  },
  {
   "cell_type": "markdown",
   "metadata": {},
   "source": [
    "Remember that we're interested in solving systems that look like:\n",
    "$$\\frac{d\\vec{x}}{dt} = M \\vec{x}$$\n",
    "\n",
    "We know that in general, the solution is going to be\n",
    "$$\\displaystyle \\vec{x}(t) = k_1 \\vec{u_1}e^{\\lambda_1 t} + k_2 \\vec{u_2}e^{\\lambda_2 t}$$\n",
    "So we know, straight away, that the eigenvectors $u_1$ and $u_2$ are going to be relevant for the direction of solutions, and we know that the eigenvalues $\\lambda_1$ and $\\lambda_2$ are going to determine the rates of growth or decay along these eigenvectors. \n",
    "\n",
    "However, the equation above also shows us that the rates of change of the coordinates of $\\vec{x}$ depend on what the matrix does to the current point $\\vec{x}$.  That means that we can see the impact of the matrix as a *vector field*. "
   ]
  },
  {
   "cell_type": "code",
   "execution_count": null,
   "metadata": {},
   "outputs": [],
   "source": [
    "M = np.array([\n",
    "    [1,1/2],\n",
    "    [1,1]])\n",
    "plot_vector_field(M)"
   ]
  },
  {
   "cell_type": "code",
   "execution_count": null,
   "metadata": {},
   "outputs": [],
   "source": []
  }
 ],
 "metadata": {
  "kernelspec": {
   "display_name": "Python 3",
   "language": "python",
   "name": "python3"
  },
  "language_info": {
   "codemirror_mode": {
    "name": "ipython",
    "version": 3
   },
   "file_extension": ".py",
   "mimetype": "text/x-python",
   "name": "python",
   "nbconvert_exporter": "python",
   "pygments_lexer": "ipython3",
   "version": "3.7.4"
  }
 },
 "nbformat": 4,
 "nbformat_minor": 4
}
