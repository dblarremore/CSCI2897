{
 "cells": [
  {
   "cell_type": "markdown",
   "metadata": {},
   "source": [
    "# Notebook_6 - Matrix Machines II"
   ]
  },
  {
   "cell_type": "markdown",
   "metadata": {},
   "source": [
    "### Import needed packages"
   ]
  },
  {
   "cell_type": "code",
   "execution_count": 42,
   "metadata": {},
   "outputs": [],
   "source": [
    "import numpy as np\n",
    "import matplotlib.pyplot as plt\n",
    "# let's set things up so we have nice font sizes\n",
    "plt.rcParams.update({'font.size': 12})"
   ]
  },
  {
   "cell_type": "code",
   "execution_count": 43,
   "metadata": {},
   "outputs": [],
   "source": [
    "def plot_vectors(vector,matrix,ax,color):\n",
    "    '''\n",
    "    Give this function a vector, a matrix, the axes to plot into, and\n",
    "    a color, and it'll plot the vector AND the matrix*vector.\n",
    "    '''\n",
    "    vector2 = matrix.dot(np.array(vector))\n",
    "    ax.scatter(0,0,color='k',zorder=10)\n",
    "    ax.plot([0,vector2[0]],[0,vector2[1]],color=color)\n",
    "    ax.plot([0,vector[0]],[0,vector[1]],color=color,alpha=0.5,ls='--')\n",
    "    ax.scatter(vector2[0],vector2[1],color=color)\n",
    "    ax.scatter(vector[0],vector[1],edgecolor=color,facecolor='w',zorder=10)"
   ]
  },
  {
   "cell_type": "code",
   "execution_count": 44,
   "metadata": {},
   "outputs": [],
   "source": [
    "def square(ax):\n",
    "    '''\n",
    "    Give this function some axes, and it'll square them up for good\n",
    "    and attractive viewing. It'll also put the axes in the middle\n",
    "    '''\n",
    "    xlims = np.abs(ax.get_xlim())\n",
    "    ylims = np.abs(ax.get_ylim())\n",
    "    M = np.max([np.max(xlims),np.max(ylims)])\n",
    "    ax.set_xlim([-M,M])\n",
    "    ax.set_ylim([-M,M])\n",
    "    \n",
    "    # set the x-spine (see below for more info on `set_position`)\n",
    "    ax.spines['left'].set_position('zero')\n",
    "\n",
    "    # turn off the right spine/ticks\n",
    "    ax.spines['right'].set_color('none')\n",
    "    ax.yaxis.tick_left()\n",
    "\n",
    "    # set the y-spine\n",
    "    ax.spines['bottom'].set_position('zero')\n",
    "\n",
    "    # turn off the top spine/ticks\n",
    "    ax.spines['top'].set_color('none')\n",
    "    ax.xaxis.tick_bottom()"
   ]
  },
  {
   "cell_type": "markdown",
   "metadata": {},
   "source": [
    "# Eigenvectors and Matrices"
   ]
  },
  {
   "cell_type": "code",
   "execution_count": 70,
   "metadata": {},
   "outputs": [],
   "source": [
    "matrix = np.array([\n",
    "    [-5,2],\n",
    "    [-9,6],\n",
    "])\n",
    "# np.linalg.eig(matrix)"
   ]
  },
  {
   "cell_type": "code",
   "execution_count": 75,
   "metadata": {},
   "outputs": [
    {
     "data": {
      "image/png": "[encoded data removed]",
      "text/plain": [
       "<Figure size 432x432 with 1 Axes>"
      ]
     },
     "metadata": {
      "needs_background": "light"
     },
     "output_type": "display_data"
    }
   ],
   "source": [
    "fig,ax = plt.subplots(nrows=1,ncols=1,figsize=(6,6))\n",
    "vector = [10,10]\n",
    "plot_vectors(vector,matrix,ax,'g')\n",
    "vector = [2,9]\n",
    "plot_vectors(vector,matrix,ax,'b')\n",
    "square(ax)"
   ]
  },
  {
   "cell_type": "code",
   "execution_count": null,
   "metadata": {},
   "outputs": [],
   "source": []
  },
  {
   "cell_type": "markdown",
   "metadata": {},
   "source": [
    "# Matrix and Matrix Inverse"
   ]
  },
  {
   "cell_type": "code",
   "execution_count": 57,
   "metadata": {},
   "outputs": [],
   "source": [
    "matrix = np.array([\n",
    "    [6,4],\n",
    "    [3,-2],\n",
    "])\n",
    "\n",
    "inv_matrix = np.linalg.inv(matrix)"
   ]
  },
  {
   "cell_type": "code",
   "execution_count": 55,
   "metadata": {},
   "outputs": [
    {
     "data": {
      "image/png": "[encoded data removed]",
      "text/plain": [
       "<Figure size 216x216 with 1 Axes>"
      ]
     },
     "metadata": {
      "needs_background": "light"
     },
     "output_type": "display_data"
    }
   ],
   "source": [
    "fig,ax = plt.subplots(nrows=1,ncols=1,figsize=(3,3))\n",
    "# vector = [1,1]\n",
    "vector = [1,3/2]\n",
    "b_vector = [12,0]\n",
    "plot_vectors(vector,matrix,ax,'b')\n",
    "square(ax)"
   ]
  },
  {
   "cell_type": "code",
   "execution_count": 56,
   "metadata": {},
   "outputs": [
    {
     "data": {
      "image/png": "[encoded data removed]",
      "text/plain": [
       "<Figure size 216x216 with 1 Axes>"
      ]
     },
     "metadata": {
      "needs_background": "light"
     },
     "output_type": "display_data"
    }
   ],
   "source": [
    "fig,ax = plt.subplots(nrows=1,ncols=1,figsize=(3,3))\n",
    "# vector = [1,1]\n",
    "vector = [1,3/2]\n",
    "b_vector = [12,0]\n",
    "plot_vectors(b_vector,inv_matrix,ax,'r')\n",
    "square(ax)"
   ]
  }
 ],
 "metadata": {
  "kernelspec": {
   "display_name": "Python 3",
   "language": "python",
   "name": "python3"
  },
  "language_info": {
   "codemirror_mode": {
    "name": "ipython",
    "version": 3
   },
   "file_extension": ".py",
   "mimetype": "text/x-python",
   "name": "python",
   "nbconvert_exporter": "python",
   "pygments_lexer": "ipython3",
   "version": "3.7.4"
  }
 },
 "nbformat": 4,
 "nbformat_minor": 4
}
